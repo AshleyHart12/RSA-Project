{
 "cells": [
  {
   "cell_type": "markdown",
   "metadata": {},
   "source": [
    "## RSA - The Project"
   ]
  },
  {
   "cell_type": "markdown",
   "metadata": {},
   "source": [
    "\n",
    "\n",
    "\n",
    "\n",
    "\n"
   ]
  },
  {
   "cell_type": "markdown",
   "metadata": {},
   "source": [
    "This project will guide you through the steps of code breaking using RSA (named after the three inventor's initials.) You will be able to encode your own message, decode someone else's message, and crack the code of someone else's private keys. As you follow along, you will start with  an essential function named FME (Fast Modular Expression), which is an algorithm to prepare your message for encryption and decryption. You will use this function later on when you get to the encode and decode section. The Euclidean Algorithm function will be used to create your public key, and the extended euclidean algorithm will be used to create your private keys. These two pieces of information are crucial to the success of the process. Once you have this information, you can input them into the encode/decode functions to reveal or encode the secret messages. You will also learn about prime factorization in the RSA process, which will round out the knowledge needing for understanding cryptography. Once you have gone through all the functions individually, you will have the chance at the end to use the guided interaction to encode and decode your own messages easily. You can create new keys, encode your own message, and decode a message whether you know the private key or not. "
   ]
  },
  {
   "cell_type": "code",
   "execution_count": 2,
   "metadata": {},
   "outputs": [],
   "source": [
    "def FME(b, n, m):\n",
    "    result = 1 # This variable will be updated during the while loop, the if first condition is met \n",
    "    square = b # This variable will be updated with every iteration of the while loop\n",
    "    while n > 0:\n",
    "        k = n % 2 # Check if the n argument has a remainder after dividing it by 2 (next line)\n",
    "        if k == 1: # Check if n mod 2 equals 1\n",
    "            result = (result * square) % m #updates result when k equals 1\n",
    "        square = (square * square) % m # square the base and take the mod with each iteration\n",
    "        n = n // 2 # with every iteration, change the value of n to perform floor divison \n",
    "    return result\n",
    "   "
   ]
  },
  {
   "cell_type": "code",
   "execution_count": 3,
   "metadata": {},
   "outputs": [],
   "source": [
    "def Euclidean_Alg(a, b):\n",
    "    if a <= 0 or b <= 0: # Add a check to ensure the inputs are postive numbers \n",
    "        return False\n",
    "    while b > 0: # We will only run this loop until the second argument is smaller than 1\n",
    "        k = a % b # Find a mod b\n",
    "        a = b # Set a equal to the initial value of b\n",
    "        b = k # set b equal to the value of k - This will be updated every loop\n",
    "    return a\n",
    "   "
   ]
  },
  {
   "cell_type": "code",
   "execution_count": 4,
   "metadata": {},
   "outputs": [],
   "source": [
    "def EEA(a, b):\n",
    "    if a <= 0 or b <= 0: # Add a check to ensure the inputs are postive numbers \n",
    "        return False\n",
    "    m0, n0 = a, b # Define variables that will updated copies of a and b, but not the originals\n",
    "    s1, t1 = 1, 0 # coeffients for a\n",
    "    s2, t2 = 0, 1 # coeffients for b\n",
    "\n",
    "    while n0 != 0:\n",
    "        q = m0 // n0 # Find the quotient of m0 and n0\n",
    "        m0, n0 = n0, m0 - q * n0 # Update using the remainder of the division above\n",
    "        s1, s2 = s2, s1 - q * s2 # update coeffiennts for a\n",
    "        t1, t2 = t2, t1 - q * t2 # update coefficients for b\n",
    "\n",
    "    return m0, s1, t1\n",
    "      \n",
    "    \n",
    "    "
   ]
  },
  {
   "cell_type": "code",
   "execution_count": 5,
   "metadata": {},
   "outputs": [],
   "source": [
    "def Find_Public_Key_e(p, q):\n",
    "    n = p * q # each individual has an encryption key (n, e) where n = pq\n",
    "    find_e = (p - 1) * (q - 1) # # and an exponent e that is relatively prime to (p − 1)(q − 1)\n",
    "    e = 2 # Start e at a given number\n",
    "    # e = Euclidean_Alg(find_e, ea_gcd)\n",
    "    # If e & ea_gcd == 1 & !== 9 | q \n",
    "    while e < find_e:\n",
    "        if Euclidean_Alg(e, find_e) == 1 and e != p and e != q:\n",
    "            return n, e # Loop will end once if satifies the condition that the gcd of e and find_e equals 1 and does not equal either of the two arguments\n",
    "        e += 1 # add 1 to e until the condition is met, checking all possibilites \n",
    "    \n"
   ]
  },
  {
   "cell_type": "code",
   "execution_count": 6,
   "metadata": {},
   "outputs": [],
   "source": [
    "def Find_Private_Key_d(e, p, q):\n",
    "    n = (p - 1) * (q - 1) # Calculate \n",
    "    coefficients = EEA(e, n) # Use Extended Euclidean Algorithm to find coefficients\n",
    "    d = coefficients[1] % n # Ensure d is positive and less than n above\n",
    "    return d\n",
    "\n",
    "  "
   ]
  },
  {
   "cell_type": "code",
   "execution_count": 7,
   "metadata": {},
   "outputs": [],
   "source": [
    "def Convert_Text(_string):\n",
    "    integer_list = []\n",
    "    for i in _string:\n",
    "        integer_list.append(ord(i))\n",
    "    return integer_list"
   ]
  },
  {
   "cell_type": "code",
   "execution_count": 8,
   "metadata": {},
   "outputs": [],
   "source": [
    "def Convert_Num(_list):\n",
    "    _string = ''\n",
    "    for i in _list:\n",
    "        _string += chr(i)\n",
    "    return _string"
   ]
  },
  {
   "cell_type": "code",
   "execution_count": 9,
   "metadata": {},
   "outputs": [],
   "source": [
    "def Encode(n, e, message):\n",
    "    encode_message = Convert_Text(message)\n",
    "    cipher_text = [] # Empty list to hold the values converted into integers\n",
    "    for i in encode_message: # for each letter in the message\n",
    "        cipher_text.append(FME(i, e, n)) # run that converted integer plus the first two arguments through the FME function and add result to list\n",
    "    return cipher_text"
   ]
  },
  {
   "cell_type": "code",
   "execution_count": 10,
   "metadata": {},
   "outputs": [],
   "source": [
    "def Decode(n, d, cipher_text):\n",
    "    message = ''\n",
    "    decoded_message = []\n",
    "    for i in cipher_text: # decrypt each cipher text using our Fast Modular Expression function\n",
    "        decoded_message.append(FME(i, d, n))\n",
    "    message = Convert_Num(decoded_message) # Convert decrypted numbers back to actual words\n",
    "    return message"
   ]
  },
  {
   "cell_type": "markdown",
   "metadata": {},
   "source": [
    "In order to generate an encoded message, you need to have two valuable pieces of information: n and e. The third piece of information will be the words you want encoded. In order to calculate n and e, you will use the Find_Public_Key_e function, adding two prime numbers of your choosing as the arguments:"
   ]
  },
  {
   "cell_type": "code",
   "execution_count": 11,
   "metadata": {},
   "outputs": [
    {
     "data": {
      "text/plain": [
       "(7031, 5)"
      ]
     },
     "execution_count": 11,
     "metadata": {},
     "output_type": "execute_result"
    }
   ],
   "source": [
    "def Find_Public_Key_e(p, q):\n",
    "        n = p * q\n",
    "        e = 2\n",
    "        find_e = (p - 1) * (q - 1)\n",
    "        while e < find_e:\n",
    "            if Euclidean_Alg(e, find_e) == 1 and e != p and e != q:\n",
    "                return n, e\n",
    "            e += 1\n",
    "            \n",
    "Find_Public_Key_e(79, 89)"
   ]
  },
  {
   "cell_type": "markdown",
   "metadata": {},
   "source": [
    "The function above uses another function, Euclidean_Alg, to calculate the GCD of the two primes you chose as arguments. In order to find the private key, which someone will need in order to decode, you will need  3 arguments: the 'e' that is returned from the public key function above, and the two prime numbers you chose previously. "
   ]
  },
  {
   "cell_type": "code",
   "execution_count": 12,
   "metadata": {},
   "outputs": [
    {
     "data": {
      "text/plain": [
       "1373"
      ]
     },
     "execution_count": 12,
     "metadata": {},
     "output_type": "execute_result"
    }
   ],
   "source": [
    "def Find_Private_Key_d(e, p, q):\n",
    "    n = (p - 1) * (q - 1)\n",
    "    coefficients = EEA(e, n)\n",
    "    d = coefficients[1] % n\n",
    "    return d\n",
    "\n",
    "Find_Private_Key_d(5, 79, 89)"
   ]
  },
  {
   "cell_type": "markdown",
   "metadata": {},
   "source": [
    "The EEA function that is used above returns the GCD of the 'e' value you found in the public key function and value of , which is (p - 1) * (q - 1) (p and q being the two prime numbers you chose.) This function allows us to find the modular inverse of e mod n. The inverse if the private key that s being returned (d), which is essential in decoding a message. You can view that function below:"
   ]
  },
  {
   "cell_type": "code",
   "execution_count": 13,
   "metadata": {},
   "outputs": [],
   "source": [
    "def EEA(a, b):\n",
    "    m0, n0 = a, b\n",
    "    s1, t1 = 1, 0\n",
    "    s2, t2 = 0, 1\n",
    "\n",
    "    while n0 != 0:\n",
    "        q = m0 // n0\n",
    "        m0, n0 = n0, m0 - q * n0\n",
    "        s1, s2 = s2, s1 - q * s2\n",
    "        t1, t2 = t2, t1 - q * t2\n",
    "\n",
    "    return m0, s1, t1"
   ]
  },
  {
   "cell_type": "markdown",
   "metadata": {},
   "source": [
    "Once you have the keys, you can encode and decode messages! To encode, you will need the values that were returned to you from the Find_Public_Key_e function. "
   ]
  },
  {
   "cell_type": "code",
   "execution_count": 14,
   "metadata": {},
   "outputs": [
    {
     "data": {
      "text/plain": [
       "[494, 7019, 2433, 2433, 2579, 2500, 3617, 2579, 5440, 2433, 5568]"
      ]
     },
     "execution_count": 14,
     "metadata": {},
     "output_type": "execute_result"
    }
   ],
   "source": [
    "def Encode(n, e, message):\n",
    "    encode_message = Convert_Text(message)\n",
    "    cipher_text = []\n",
    "    for i in encode_message:\n",
    "        cipher_text.append(FME(i, e, n))\n",
    "    return cipher_text\n",
    "\n",
    "Encode(7031, 5, \"Hello World\")"
   ]
  },
  {
   "cell_type": "markdown",
   "metadata": {},
   "source": [
    "This will return a list of numbers, like this: [494, 7019, 2433, 2433, 2579, 2500, 3617, 2579, 5440, 2433, 5568]\n",
    "\n",
    "You can see that we are calling two functions inside this function. The first one, Convert_Text, takes the message in words and will return the number value. The second, FME, is the Fast Modular Expression function. This function looks like this:"
   ]
  },
  {
   "cell_type": "code",
   "execution_count": 15,
   "metadata": {},
   "outputs": [],
   "source": [
    "def FME(b, n, m):\n",
    "    result = 1 \n",
    "    square = b \n",
    "    while n > 0:\n",
    "        k = n % 2 \n",
    "        if k == 1: \n",
    "            result = (result * square) % m \n",
    "        square = (square * square) % m\n",
    "        n = n // 2  \n",
    "    return result"
   ]
  },
  {
   "cell_type": "markdown",
   "metadata": {},
   "source": [
    "To decode a message, you need three things: the 'd' value from the private keyfunction (ours is 1373), the n value from our public key function (ours is 7031) and the decoded message. The function to decode will take the encoded message and break down reach individual number value. It will then convert the number into a letter, and reveal the value in words/letters. "
   ]
  },
  {
   "cell_type": "code",
   "execution_count": 16,
   "metadata": {},
   "outputs": [
    {
     "data": {
      "text/plain": [
       "'Hello World'"
      ]
     },
     "execution_count": 16,
     "metadata": {},
     "output_type": "execute_result"
    }
   ],
   "source": [
    "def Decode(n, d, cipher_text):\n",
    "    message = ''\n",
    "    decoded_message = []\n",
    "    for i in cipher_text:\n",
    "        decoded_message.append(FME(i, d, n))\n",
    "    message = Convert_Num(decoded_message)\n",
    "    return message\n",
    "\n",
    "Decode(7031, 1373, [494, 7019, 2433, 2433, 2579, 2500, 3617, 2579, 5440, 2433, 5568])"
   ]
  },
  {
   "cell_type": "markdown",
   "metadata": {},
   "source": [
    "This will turn this: [494, 7019, 2433, 2433, 2579, 2500, 3617, 2579, 5440, 2433, 5568]\n",
    "Into this: Hello World"
   ]
  },
  {
   "cell_type": "code",
   "execution_count": 23,
   "metadata": {},
   "outputs": [],
   "source": [
    "def factorize(n):\n",
    "    for i in range(2, n -1): # iterate from 2 to find a factor\n",
    "        if n % i == 0:  # Check if i is a factor of n\n",
    "            return i # Return the smallest factor if found\n",
    "        return False # Return false if no factor is found"
   ]
  },
  {
   "cell_type": "markdown",
   "metadata": {},
   "source": [
    "EXAMPLE:\n",
    "n,e=559 ,5 #Public Key\n",
    "\n",
    "Cipher:[417, 150, 457, 127, 24, 52, 457, 367, 511, 203, 24, 367, 511, 367, 457, 12, 234, 417, 20, 44, 457, 127, 24, 52, 457, 24, 448, 511, 457, 447, 511, 457, 426, 52, 314, 203, 234, 362"
   ]
  },
  {
   "cell_type": "markdown",
   "metadata": {},
   "source": [
    "The first step is to put the value of n from a public code into the factorization function:"
   ]
  },
  {
   "cell_type": "code",
   "execution_count": 24,
   "metadata": {},
   "outputs": [
    {
     "name": "stdout",
     "output_type": "stream",
     "text": [
      "13\n"
     ]
    }
   ],
   "source": [
    "def factorize(n):\n",
    "    for i in range(2, n-1):\n",
    "        if n % i == 0:\n",
    "            return i\n",
    "    return False\n",
    "print(factorize(559))"
   ]
  },
  {
   "cell_type": "markdown",
   "metadata": {},
   "source": [
    "The result from this is the integer 13. From there, we get the value of n (559) divided by p (13), which gave us the integer 43. Then, we put these values into the find_private_key function, like so: "
   ]
  },
  {
   "cell_type": "code",
   "execution_count": 25,
   "metadata": {},
   "outputs": [
    {
     "data": {
      "text/plain": [
       "101"
      ]
     },
     "execution_count": 25,
     "metadata": {},
     "output_type": "execute_result"
    }
   ],
   "source": [
    " Find_Private_Key_d(5, 13, 43)"
   ]
  },
  {
   "cell_type": "markdown",
   "metadata": {},
   "source": [
    "This gives us the value 101, which is the value needed for 'd' in the decode function. "
   ]
  },
  {
   "cell_type": "code",
   "execution_count": 26,
   "metadata": {},
   "outputs": [
    {
     "data": {
      "text/plain": [
       "'if you decoded this, you owe me lunch!'"
      ]
     },
     "execution_count": 26,
     "metadata": {},
     "output_type": "execute_result"
    }
   ],
   "source": [
    "Decode(559, 101, [417, 150, 457, 127, 24, 52, 457, 367, 511, 203, 24, 367, 511, 367, 457, 12, 234, 417, 20, 44, 457, 127, 24, 52, 457, 24, 448, 511, 457, 447, 511, 457, 426, 52, 314, 203, 234, 362])"
   ]
  },
  {
   "cell_type": "markdown",
   "metadata": {},
   "source": [
    "Which translates to: 'if you decoded this, you owe me lunch!"
   ]
  },
  {
   "cell_type": "code",
   "execution_count": null,
   "metadata": {},
   "outputs": [],
   "source": [
    "def main():\n",
    "    RSA_project()\n",
    "\n",
    "if __name__ == \"__main__\":\n",
    "    main\n",
    "    \n",
    "def get_primes():\n",
    "    first_prime = int(input(\"Enter first prime number\"))\n",
    "    second_prime = int(input(\"Enter second prime number\"))\n",
    "    return first_prime, second_prime\n",
    "\n",
    "def get_keys(first_prime, second_prime):\n",
    "    public_keys = Find_Public_Key_e(first_prime, second_prime)\n",
    "    private_keys = Find_Private_Key_d(public_keys[1], first_prime, second_prime)\n",
    "    print()\n",
    "    print('************************')\n",
    "    print()\n",
    "    print('Public Keys: ', 'n: ', public_keys[0], 'e: ', public_keys[1])\n",
    "    print('Private Key: ', private_keys)\n",
    "    print()\n",
    "    print('************************')\n",
    "    print()\n",
    "    return public_keys, private_keys\n",
    "    \n",
    "def get_user_choice():\n",
    "    user_choice = input(\"\"\"\n",
    "    What would you like to do?\n",
    "    1) Get new keys\n",
    "    2) Encode a message\n",
    "    3) Decode a message\n",
    "    4) Quit program\n",
    "    \"\"\")\n",
    "    return user_choice\n",
    "\n",
    "def RSA_project():\n",
    "    while True:\n",
    "        user_choice = get_user_choice()\n",
    "\n",
    "        if user_choice == '1':\n",
    "            first_prime, second_prime = get_primes()\n",
    "            public_keys, private_keys = get_keys(first_prime, second_prime)\n",
    "        elif user_choice == '2':\n",
    "            n = input(\"Enter public key 'n': \")\n",
    "            e = input(\"Enter public key 'e' : \")\n",
    "            message = input(\"Enter message you would like to decode\")\n",
    "            encoded_message = Encode(int(n), int(e), message)\n",
    "            print(\"cipher text: \", encoded_message)\n",
    "        elif user_choice == '3':\n",
    "            user_q = input(\"Do you know the private key? Please enter 'yes' or 'no'\")\n",
    "            if user_q == 'no':\n",
    "                n = int(input(\"Enter public key 'n': \"))\n",
    "                e = int(input(\"Enter public key 'e': \"))\n",
    "                decode_message = input(\"Enter cipher text without the brackets, separated by commas\")\n",
    "                decoded_msg = decode_message.split(',')\n",
    "                decode_elements = []\n",
    "                for i in decoded_msg:\n",
    "                    decode_elements.append(int(i))\n",
    "                factorized = factorize(n)\n",
    "                q = n / factorized\n",
    "                find_private_key = Find_Private_Key_d(e, factorized, q)\n",
    "                decoded_message = Decode(n, find_private_key, decode_elements)\n",
    "                print(\"This message says: \", decoded_message)\n",
    "            elif user_q == 'yes':\n",
    "                n = int(input(\"Enter public key 'n': \"))\n",
    "                d = int(input(\"Enter private key\"))\n",
    "                decode_message = input(\"Enter cipher text without the brackets, separated by commas\")\n",
    "                decoded_msg = decode_message.split(',')\n",
    "                decode_elements = []\n",
    "                for i in decoded_msg:\n",
    "                    decode_elements.append(int(i))\n",
    "                decoded_message = Decode(n, d, decode_elements)\n",
    "                print(\"This message says: \", decoded_message)\n",
    "        elif user_choice == '4':\n",
    "                print('Thanks for playing!')\n",
    "                break\n",
    "    \n",
    "main()"
   ]
  }
 ],
 "metadata": {
  "kernelspec": {
   "display_name": "Python 3 (ipykernel)",
   "language": "python",
   "name": "python3"
  },
  "language_info": {
   "codemirror_mode": {
    "name": "ipython",
    "version": 3
   },
   "file_extension": ".py",
   "mimetype": "text/x-python",
   "name": "python",
   "nbconvert_exporter": "python",
   "pygments_lexer": "ipython3",
   "version": "3.10.8"
  }
 },
 "nbformat": 4,
 "nbformat_minor": 4
}
